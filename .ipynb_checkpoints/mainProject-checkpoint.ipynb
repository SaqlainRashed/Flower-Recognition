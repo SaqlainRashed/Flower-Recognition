{
 "cells": [
  {
   "cell_type": "code",
   "execution_count": 27,
   "id": "71a13959",
   "metadata": {},
   "outputs": [],
   "source": [
    "#importing Libraries"
   ]
  },
  {
   "cell_type": "code",
   "execution_count": 2,
   "id": "f97a6ef1",
   "metadata": {},
   "outputs": [],
   "source": [
    "import numpy as np\n",
    "import tensorflow as tf\n",
    "from keras.preprocessing.image import ImageDataGenerator"
   ]
  },
  {
   "cell_type": "code",
   "execution_count": 7,
   "id": "d760a101",
   "metadata": {},
   "outputs": [],
   "source": [
    "#Data Prepossing"
   ]
  },
  {
   "cell_type": "code",
   "execution_count": 8,
   "id": "ac2309d7",
   "metadata": {},
   "outputs": [],
   "source": [
    "#Training Image Processing"
   ]
  },
  {
   "cell_type": "code",
   "execution_count": 4,
   "id": "3815db9a",
   "metadata": {},
   "outputs": [
    {
     "name": "stdout",
     "output_type": "stream",
     "text": [
      "Found 4005 images belonging to 5 classes.\n"
     ]
    }
   ],
   "source": [
    "train_datagen = ImageDataGenerator(\n",
    "        rescale=1./255,\n",
    "        shear_range=0.2,\n",
    "        zoom_range=0.2,\n",
    "        horizontal_flip=True)\n",
    "training_set = train_datagen.flow_from_directory(\n",
    "        'training_set',\n",
    "        target_size=(64, 64),\n",
    "        batch_size=32,\n",
    "        class_mode='categorical')"
   ]
  },
  {
   "cell_type": "code",
   "execution_count": 5,
   "id": "0a22e43b",
   "metadata": {},
   "outputs": [
    {
     "name": "stdout",
     "output_type": "stream",
     "text": [
      "Found 312 images belonging to 5 classes.\n"
     ]
    }
   ],
   "source": [
    "test_datagen = ImageDataGenerator(rescale=1./255)\n",
    "test_set = test_datagen.flow_from_directory(\n",
    "        'test_set',\n",
    "        target_size=(64, 64),\n",
    "        batch_size=32,\n",
    "        class_mode='categorical')"
   ]
  },
  {
   "cell_type": "code",
   "execution_count": 6,
   "id": "e7aeba93",
   "metadata": {},
   "outputs": [],
   "source": [
    "cnn = tf.keras.models.Sequential()"
   ]
  },
  {
   "cell_type": "code",
   "execution_count": 7,
   "id": "c3343733",
   "metadata": {},
   "outputs": [],
   "source": [
    "cnn.add(tf.keras.layers.Conv2D(filters=64 , kernel_size=3 , activation='relu' , input_shape=[64,64,3]))\n",
    "cnn.add(tf.keras.layers.MaxPool2D(pool_size=2,strides=2))"
   ]
  },
  {
   "cell_type": "code",
   "execution_count": 8,
   "id": "6a88844c",
   "metadata": {},
   "outputs": [],
   "source": [
    "cnn.add(tf.keras.layers.Conv2D(filters=64 , kernel_size=3 , activation='relu' ))\n",
    "cnn.add(tf.keras.layers.MaxPool2D(pool_size=2 , strides=2))"
   ]
  },
  {
   "cell_type": "code",
   "execution_count": 9,
   "id": "c16b72f6",
   "metadata": {},
   "outputs": [],
   "source": [
    "cnn.add(tf.keras.layers.Dropout(0.5))"
   ]
  },
  {
   "cell_type": "code",
   "execution_count": 10,
   "id": "c0213187",
   "metadata": {},
   "outputs": [],
   "source": [
    "cnn.add(tf.keras.layers.Flatten())"
   ]
  },
  {
   "cell_type": "code",
   "execution_count": 11,
   "id": "79de2df7",
   "metadata": {},
   "outputs": [],
   "source": [
    "cnn.add(tf.keras.layers.Dense(units=128, activation='relu'))"
   ]
  },
  {
   "cell_type": "code",
   "execution_count": 12,
   "id": "8aa54e31",
   "metadata": {},
   "outputs": [],
   "source": [
    "cnn.add(tf.keras.layers.Dense(units=5 , activation='softmax'))"
   ]
  },
  {
   "cell_type": "code",
   "execution_count": 18,
   "id": "c7873fd7",
   "metadata": {},
   "outputs": [],
   "source": [
    "cnn.compile(optimizer = 'rmsprop' , loss = 'categorical_crossentropy' , metrics = ['accuracy'])"
   ]
  },
  {
   "cell_type": "code",
   "execution_count": 19,
   "id": "c4566076",
   "metadata": {},
   "outputs": [
    {
     "name": "stdout",
     "output_type": "stream",
     "text": [
      "Epoch 1/30\n",
      "126/126 [==============================] - 68s 518ms/step - loss: 1.2890 - accuracy: 0.4537 - val_loss: 1.2027 - val_accuracy: 0.5481\n",
      "Epoch 2/30\n",
      "126/126 [==============================] - 26s 203ms/step - loss: 1.0738 - accuracy: 0.5738 - val_loss: 1.0108 - val_accuracy: 0.6026\n",
      "Epoch 3/30\n",
      "126/126 [==============================] - 25s 202ms/step - loss: 0.9523 - accuracy: 0.6212 - val_loss: 1.0745 - val_accuracy: 0.6378\n",
      "Epoch 4/30\n",
      "126/126 [==============================] - 26s 204ms/step - loss: 0.8918 - accuracy: 0.6577 - val_loss: 0.8154 - val_accuracy: 0.6859\n",
      "Epoch 5/30\n",
      "126/126 [==============================] - 26s 204ms/step - loss: 0.8358 - accuracy: 0.6787 - val_loss: 0.8424 - val_accuracy: 0.6699\n",
      "Epoch 6/30\n",
      "126/126 [==============================] - 26s 205ms/step - loss: 0.7960 - accuracy: 0.6964 - val_loss: 0.8593 - val_accuracy: 0.7051\n",
      "Epoch 7/30\n",
      "126/126 [==============================] - 26s 204ms/step - loss: 0.7638 - accuracy: 0.7134 - val_loss: 1.0095 - val_accuracy: 0.6058\n",
      "Epoch 8/30\n",
      "126/126 [==============================] - 25s 202ms/step - loss: 0.7158 - accuracy: 0.7228 - val_loss: 0.8914 - val_accuracy: 0.6635\n",
      "Epoch 9/30\n",
      "126/126 [==============================] - 25s 201ms/step - loss: 0.6942 - accuracy: 0.7383 - val_loss: 0.8162 - val_accuracy: 0.7019\n",
      "Epoch 10/30\n",
      "126/126 [==============================] - 25s 201ms/step - loss: 0.6671 - accuracy: 0.7443 - val_loss: 0.8281 - val_accuracy: 0.7115\n",
      "Epoch 11/30\n",
      "126/126 [==============================] - 25s 201ms/step - loss: 0.6498 - accuracy: 0.7513 - val_loss: 0.7971 - val_accuracy: 0.7051\n",
      "Epoch 12/30\n",
      "126/126 [==============================] - 25s 202ms/step - loss: 0.6378 - accuracy: 0.7618 - val_loss: 0.8346 - val_accuracy: 0.7019\n",
      "Epoch 13/30\n",
      "126/126 [==============================] - 25s 201ms/step - loss: 0.6115 - accuracy: 0.7680 - val_loss: 0.7754 - val_accuracy: 0.7147\n",
      "Epoch 14/30\n",
      "126/126 [==============================] - 25s 202ms/step - loss: 0.5943 - accuracy: 0.7755 - val_loss: 0.7560 - val_accuracy: 0.7244\n",
      "Epoch 15/30\n",
      "126/126 [==============================] - 26s 203ms/step - loss: 0.5849 - accuracy: 0.7810 - val_loss: 0.9013 - val_accuracy: 0.6891\n",
      "Epoch 16/30\n",
      "126/126 [==============================] - 26s 202ms/step - loss: 0.5511 - accuracy: 0.7945 - val_loss: 0.8800 - val_accuracy: 0.7115\n",
      "Epoch 17/30\n",
      "126/126 [==============================] - 26s 206ms/step - loss: 0.5461 - accuracy: 0.7933 - val_loss: 0.8500 - val_accuracy: 0.7179\n",
      "Epoch 18/30\n",
      "126/126 [==============================] - 26s 208ms/step - loss: 0.5272 - accuracy: 0.8057 - val_loss: 0.8703 - val_accuracy: 0.7019\n",
      "Epoch 19/30\n",
      "126/126 [==============================] - 26s 203ms/step - loss: 0.5077 - accuracy: 0.8130 - val_loss: 0.9401 - val_accuracy: 0.6859\n",
      "Epoch 20/30\n",
      "126/126 [==============================] - 26s 203ms/step - loss: 0.4915 - accuracy: 0.8240 - val_loss: 0.9161 - val_accuracy: 0.7340\n",
      "Epoch 21/30\n",
      "126/126 [==============================] - 26s 206ms/step - loss: 0.4780 - accuracy: 0.8267 - val_loss: 0.9654 - val_accuracy: 0.7179\n",
      "Epoch 22/30\n",
      "126/126 [==============================] - 26s 205ms/step - loss: 0.4702 - accuracy: 0.8265 - val_loss: 0.9854 - val_accuracy: 0.7179\n",
      "Epoch 23/30\n",
      "126/126 [==============================] - 26s 203ms/step - loss: 0.4555 - accuracy: 0.8277 - val_loss: 0.9245 - val_accuracy: 0.7308\n",
      "Epoch 24/30\n",
      "126/126 [==============================] - 26s 206ms/step - loss: 0.4541 - accuracy: 0.8297 - val_loss: 0.9953 - val_accuracy: 0.7019\n",
      "Epoch 25/30\n",
      "126/126 [==============================] - 26s 204ms/step - loss: 0.4303 - accuracy: 0.8424 - val_loss: 0.8184 - val_accuracy: 0.6955\n",
      "Epoch 26/30\n",
      "126/126 [==============================] - 26s 203ms/step - loss: 0.4231 - accuracy: 0.8442 - val_loss: 0.9317 - val_accuracy: 0.6987\n",
      "Epoch 27/30\n",
      "126/126 [==============================] - 26s 206ms/step - loss: 0.4072 - accuracy: 0.8562 - val_loss: 0.9393 - val_accuracy: 0.7147\n",
      "Epoch 28/30\n",
      "126/126 [==============================] - 26s 207ms/step - loss: 0.4173 - accuracy: 0.8427 - val_loss: 0.9676 - val_accuracy: 0.6891\n",
      "Epoch 29/30\n",
      "126/126 [==============================] - 26s 209ms/step - loss: 0.4083 - accuracy: 0.8514 - val_loss: 0.8361 - val_accuracy: 0.7147\n",
      "Epoch 30/30\n",
      "126/126 [==============================] - 26s 205ms/step - loss: 0.4030 - accuracy: 0.8527 - val_loss: 0.9037 - val_accuracy: 0.7179\n"
     ]
    },
    {
     "data": {
      "text/plain": [
       "<keras.callbacks.History at 0x1fd89e48190>"
      ]
     },
     "execution_count": 19,
     "metadata": {},
     "output_type": "execute_result"
    }
   ],
   "source": [
    "cnn.fit(x = training_set , validation_data = test_set , epochs = 30)"
   ]
  },
  {
   "cell_type": "code",
   "execution_count": 20,
   "id": "c999ce12",
   "metadata": {},
   "outputs": [],
   "source": [
    "#Preprocess Input Image"
   ]
  },
  {
   "cell_type": "code",
   "execution_count": 3,
   "id": "f88333f7",
   "metadata": {},
   "outputs": [
    {
     "ename": "NameError",
     "evalue": "name 'cnn' is not defined",
     "output_type": "error",
     "traceback": [
      "\u001b[1;31m---------------------------------------------------------------------------\u001b[0m",
      "\u001b[1;31mNameError\u001b[0m                                 Traceback (most recent call last)",
      "Input \u001b[1;32mIn [3]\u001b[0m, in \u001b[0;36m<cell line: 5>\u001b[1;34m()\u001b[0m\n\u001b[0;32m      3\u001b[0m test_image \u001b[38;5;241m=\u001b[39m image\u001b[38;5;241m.\u001b[39mimg_to_array(test_image)\n\u001b[0;32m      4\u001b[0m test_image \u001b[38;5;241m=\u001b[39m np\u001b[38;5;241m.\u001b[39mexpand_dims(test_image,axis\u001b[38;5;241m=\u001b[39m\u001b[38;5;241m0\u001b[39m)\n\u001b[1;32m----> 5\u001b[0m result \u001b[38;5;241m=\u001b[39m \u001b[43mcnn\u001b[49m\u001b[38;5;241m.\u001b[39mpredict(test_image)\n\u001b[0;32m      6\u001b[0m training_set\u001b[38;5;241m.\u001b[39mclass_indices\n",
      "\u001b[1;31mNameError\u001b[0m: name 'cnn' is not defined"
     ]
    }
   ],
   "source": [
    "from tensorflow.keras.preprocessing import image\n",
    "test_image = image.load_img('Prediction/rose.jpg',target_size=(64,64))\n",
    "test_image = image.img_to_array(test_image)\n",
    "test_image = np.expand_dims(test_image,axis=0)\n",
    "result = cnn.predict(test_image)\n",
    "training_set.class_indices"
   ]
  },
  {
   "cell_type": "code",
   "execution_count": null,
   "id": "52efaa77",
   "metadata": {},
   "outputs": [],
   "source": [
    "if result[0][0]==1:\n",
    "    print('Daisy')\n",
    "elif result[0][1]==1:\n",
    "    print('Dandelion')\n",
    "elif result[0][2]==1:\n",
    "    print('Rose')\n",
    "elif result[0][3]==1:\n",
    "    print('SunFlower')\n",
    "elif result[0][4]==1:\n",
    "    print(\"Tulip\")"
   ]
  },
  {
   "cell_type": "code",
   "execution_count": 32,
   "id": "813a6951",
   "metadata": {},
   "outputs": [
    {
     "name": "stdout",
     "output_type": "stream",
     "text": [
      "[[1. 0. 0. 0. 0.]]\n"
     ]
    }
   ],
   "source": [
    "print(result)"
   ]
  }
 ],
 "metadata": {
  "kernelspec": {
   "display_name": "Python 3 (ipykernel)",
   "language": "python",
   "name": "python3"
  },
  "language_info": {
   "codemirror_mode": {
    "name": "ipython",
    "version": 3
   },
   "file_extension": ".py",
   "mimetype": "text/x-python",
   "name": "python",
   "nbconvert_exporter": "python",
   "pygments_lexer": "ipython3",
   "version": "3.9.12"
  }
 },
 "nbformat": 4,
 "nbformat_minor": 5
}
